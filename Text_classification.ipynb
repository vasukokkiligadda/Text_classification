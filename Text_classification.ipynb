{
 "cells": [
  {
   "cell_type": "code",
   "execution_count": 1,
   "metadata": {
    "collapsed": true
   },
   "outputs": [],
   "source": [
    "import numpy as np\n",
    "import scipy as sp\n",
    "import pandas as pd\n",
    "from sklearn.cross_validation import train_test_split\n",
    "from sklearn.metrics import classification_report\n",
    "import sklearn.metrics\n",
    "import math\n",
    "import random\n",
    "from pandas import DataFrame,Series\n",
    "from sklearn.feature_extraction.text import TfidfVectorizer\n",
    "from time import time\n",
    "import matplotlib.pyplot as plt"
   ]
  },
  {
   "cell_type": "markdown",
   "metadata": {},
   "source": [
    "Importing data from text file:"
   ]
  },
  {
   "cell_type": "code",
   "execution_count": 2,
   "metadata": {
    "collapsed": false
   },
   "outputs": [
    {
     "name": "stderr",
     "output_type": "stream",
     "text": [
      "/home/vasu/Downloads/Anaconda/lib/python2.7/site-packages/ipykernel/__main__.py:1: ParserWarning: Falling back to the 'python' engine because the 'c' engine does not support regex separators (separators > 1 char and different from '\\s+' are interpreted as regex); you can avoid this warning by specifying engine='python'.\n",
      "  if __name__ == '__main__':\n"
     ]
    }
   ],
   "source": [
    "data = pd.read_csv('LabelledData.txt', sep=\",,,\", header = None)"
   ]
  },
  {
   "cell_type": "code",
   "execution_count": 3,
   "metadata": {
    "collapsed": false
   },
   "outputs": [],
   "source": [
    "data.columns = [\"rqst\",'r_type']\n",
    "data['r_type']=data['r_type'].str.strip()    # to remove extra spaces"
   ]
  },
  {
   "cell_type": "code",
   "execution_count": 4,
   "metadata": {
    "collapsed": false
   },
   "outputs": [
    {
     "data": {
      "text/plain": [
       "array(['unknown', 'what', 'when', 'who', 'affirmation'], dtype=object)"
      ]
     },
     "execution_count": 4,
     "metadata": {},
     "output_type": "execute_result"
    }
   ],
   "source": [
    "data['r_type'].unique()               #Five categories"
   ]
  },
  {
   "cell_type": "code",
   "execution_count": 5,
   "metadata": {
    "collapsed": false
   },
   "outputs": [
    {
     "data": {
      "text/html": [
       "<div>\n",
       "<table border=\"1\" class=\"dataframe\">\n",
       "  <thead>\n",
       "    <tr style=\"text-align: right;\">\n",
       "      <th></th>\n",
       "      <th>rqst</th>\n",
       "      <th>r_type</th>\n",
       "    </tr>\n",
       "  </thead>\n",
       "  <tbody>\n",
       "    <tr>\n",
       "      <th>0</th>\n",
       "      <td>how did serfdom develop in and then leave russ...</td>\n",
       "      <td>unknown</td>\n",
       "    </tr>\n",
       "    <tr>\n",
       "      <th>1</th>\n",
       "      <td>what films featured the character popeye doyle ?</td>\n",
       "      <td>what</td>\n",
       "    </tr>\n",
       "    <tr>\n",
       "      <th>2</th>\n",
       "      <td>how can i find a list of celebrities ' real na...</td>\n",
       "      <td>unknown</td>\n",
       "    </tr>\n",
       "    <tr>\n",
       "      <th>3</th>\n",
       "      <td>what fowl grabs the spotlight after the chines...</td>\n",
       "      <td>what</td>\n",
       "    </tr>\n",
       "    <tr>\n",
       "      <th>4</th>\n",
       "      <td>what is the full form of .com ?</td>\n",
       "      <td>what</td>\n",
       "    </tr>\n",
       "  </tbody>\n",
       "</table>\n",
       "</div>"
      ],
      "text/plain": [
       "                                                rqst   r_type\n",
       "0  how did serfdom develop in and then leave russ...  unknown\n",
       "1  what films featured the character popeye doyle ?      what\n",
       "2  how can i find a list of celebrities ' real na...  unknown\n",
       "3  what fowl grabs the spotlight after the chines...     what\n",
       "4                   what is the full form of .com ?      what"
      ]
     },
     "execution_count": 5,
     "metadata": {},
     "output_type": "execute_result"
    }
   ],
   "source": [
    "data.head()"
   ]
  },
  {
   "cell_type": "code",
   "execution_count": 6,
   "metadata": {
    "collapsed": false
   },
   "outputs": [
    {
     "data": {
      "text/html": [
       "<div>\n",
       "<table border=\"1\" class=\"dataframe\">\n",
       "  <thead>\n",
       "    <tr style=\"text-align: right;\">\n",
       "      <th></th>\n",
       "      <th>rqst</th>\n",
       "      <th>r_type</th>\n",
       "    </tr>\n",
       "  </thead>\n",
       "  <tbody>\n",
       "    <tr>\n",
       "      <th>count</th>\n",
       "      <td>1483</td>\n",
       "      <td>1483</td>\n",
       "    </tr>\n",
       "    <tr>\n",
       "      <th>unique</th>\n",
       "      <td>1476</td>\n",
       "      <td>5</td>\n",
       "    </tr>\n",
       "    <tr>\n",
       "      <th>top</th>\n",
       "      <td>what is the speed of the mississippi river ?</td>\n",
       "      <td>what</td>\n",
       "    </tr>\n",
       "    <tr>\n",
       "      <th>freq</th>\n",
       "      <td>3</td>\n",
       "      <td>609</td>\n",
       "    </tr>\n",
       "  </tbody>\n",
       "</table>\n",
       "</div>"
      ],
      "text/plain": [
       "                                                 rqst r_type\n",
       "count                                            1483   1483\n",
       "unique                                           1476      5\n",
       "top     what is the speed of the mississippi river ?    what\n",
       "freq                                                3    609"
      ]
     },
     "execution_count": 6,
     "metadata": {},
     "output_type": "execute_result"
    }
   ],
   "source": [
    "data.describe()"
   ]
  },
  {
   "cell_type": "markdown",
   "metadata": {},
   "source": [
    "Note:: Data seems clean :: NO null values or missing "
   ]
  },
  {
   "cell_type": "code",
   "execution_count": 7,
   "metadata": {
    "collapsed": false
   },
   "outputs": [
    {
     "data": {
      "text/html": [
       "<div>\n",
       "<table border=\"1\" class=\"dataframe\">\n",
       "  <thead>\n",
       "    <tr style=\"text-align: right;\">\n",
       "      <th></th>\n",
       "      <th>rqst</th>\n",
       "    </tr>\n",
       "    <tr>\n",
       "      <th>r_type</th>\n",
       "      <th></th>\n",
       "    </tr>\n",
       "  </thead>\n",
       "  <tbody>\n",
       "    <tr>\n",
       "      <th>affirmation</th>\n",
       "      <td>104</td>\n",
       "    </tr>\n",
       "    <tr>\n",
       "      <th>unknown</th>\n",
       "      <td>272</td>\n",
       "    </tr>\n",
       "    <tr>\n",
       "      <th>what</th>\n",
       "      <td>609</td>\n",
       "    </tr>\n",
       "    <tr>\n",
       "      <th>when</th>\n",
       "      <td>96</td>\n",
       "    </tr>\n",
       "    <tr>\n",
       "      <th>who</th>\n",
       "      <td>402</td>\n",
       "    </tr>\n",
       "  </tbody>\n",
       "</table>\n",
       "</div>"
      ],
      "text/plain": [
       "             rqst\n",
       "r_type           \n",
       "affirmation   104\n",
       "unknown       272\n",
       "what          609\n",
       "when           96\n",
       "who           402"
      ]
     },
     "execution_count": 7,
     "metadata": {},
     "output_type": "execute_result"
    }
   ],
   "source": [
    "data.groupby('r_type').count()"
   ]
  },
  {
   "cell_type": "code",
   "execution_count": 8,
   "metadata": {
    "collapsed": false
   },
   "outputs": [
    {
     "data": {
      "text/plain": [
       "array(['how did serfdom develop in and then leave russia ? ',\n",
       "       'what films featured the character popeye doyle ? ',\n",
       "       \"how can i find a list of celebrities ' real names ? \", ...,\n",
       "       'does this hose have one ? ', 'can i get it in india ? ',\n",
       "       'would this work on a 2008 ford edge with a naked roof ? '], dtype=object)"
      ]
     },
     "execution_count": 8,
     "metadata": {},
     "output_type": "execute_result"
    }
   ],
   "source": [
    "np.array(data.rqst)      # sample of queostions"
   ]
  },
  {
   "cell_type": "markdown",
   "metadata": {},
   "source": [
    "### Using sklean TfidfVectorizer to transform text"
   ]
  },
  {
   "cell_type": "code",
   "execution_count": 9,
   "metadata": {
    "collapsed": false
   },
   "outputs": [],
   "source": [
    "from sklearn.feature_extraction.text import TfidfVectorizer\n",
    "\n",
    "tfidf_vectorizer = TfidfVectorizer(min_df = 1)\n",
    "tfidf_matrix = tfidf_vectorizer.fit_transform(data.rqst)\n"
   ]
  },
  {
   "cell_type": "markdown",
   "metadata": {},
   "source": [
    "#### Train-test Data slicing"
   ]
  },
  {
   "cell_type": "code",
   "execution_count": 10,
   "metadata": {
    "collapsed": false
   },
   "outputs": [],
   "source": [
    "tf_idf_data = tfidf_matrix.todense()\n",
    "labels = data.r_type\n",
    "X_train, X_test, y_train, y_test  =   train_test_split(tf_idf_data, labels, test_size=.3)\n"
   ]
  },
  {
   "cell_type": "code",
   "execution_count": 11,
   "metadata": {
    "collapsed": false
   },
   "outputs": [
    {
     "name": "stdout",
     "output_type": "stream",
     "text": [
      "Training Data dimension: (1038, 3636)\n",
      "Test Data dimension: (445, 3636)\n"
     ]
    }
   ],
   "source": [
    "#analyzing the shape of the training and test data-set:\n",
    "print('Training Data dimension: '+str(X_train.shape))\n",
    "print('Test Data dimension: '+str(X_test.shape))"
   ]
  },
  {
   "cell_type": "code",
   "execution_count": 12,
   "metadata": {
    "collapsed": false
   },
   "outputs": [
    {
     "name": "stdout",
     "output_type": "stream",
     "text": [
      "Accuracy :: \t0.961797752809\n"
     ]
    }
   ],
   "source": [
    "from sklearn.ensemble import RandomForestClassifier\n",
    "#Training\n",
    "model=RandomForestClassifier(n_estimators=150)\n",
    "model=model.fit(X_train,y_train)\n",
    "##  Predict\n",
    "predictions=model.predict(X_test)\n",
    "accuracy=sklearn.metrics.accuracy_score(y_test, predictions)\n",
    "print \"Accuracy :: \\t\",accuracy"
   ]
  },
  {
   "cell_type": "markdown",
   "metadata": {},
   "source": [
    "Confusion Matrix and Report"
   ]
  },
  {
   "cell_type": "code",
   "execution_count": 13,
   "metadata": {
    "collapsed": false
   },
   "outputs": [
    {
     "name": "stdout",
     "output_type": "stream",
     "text": [
      "[[ 24   2   1   0   0]\n",
      " [  0  73   3   1   1]\n",
      " [  0   0 175   2   2]\n",
      " [  0   1   4  23   0]\n",
      " [  0   0   0   0 133]]\n",
      "             precision    recall  f1-score   support\n",
      "\n",
      "affirmation       1.00      0.89      0.94        27\n",
      "    unknown       0.96      0.94      0.95        78\n",
      "       what       0.96      0.98      0.97       179\n",
      "       when       0.88      0.82      0.85        28\n",
      "        who       0.98      1.00      0.99       133\n",
      "\n",
      "avg / total       0.96      0.96      0.96       445\n",
      "\n"
     ]
    }
   ],
   "source": [
    "print(sklearn.metrics.confusion_matrix(y_test,predictions))\n",
    "print(sklearn.metrics.classification_report(y_test,predictions))"
   ]
  },
  {
   "cell_type": "markdown",
   "metadata": {},
   "source": [
    "#### Custom Testing"
   ]
  },
  {
   "cell_type": "code",
   "execution_count": 14,
   "metadata": {
    "collapsed": true
   },
   "outputs": [],
   "source": [
    "# Radom instance testing \n",
    "import random\n",
    "def radom_sample_testing(data,model,tfidf_vectorizer,test_cases):\n",
    "    print model\n",
    "    sample=random.sample(zip(data.rqst,data.r_type),test_cases)\n",
    "    new_term_freq_matrix = tfidf_vectorizer.transform([i[0] for i in sample])\n",
    "    new_term_freq_matrix=new_term_freq_matrix.todense()\n",
    "    for i in zip(zip([i[0] for i in sample],[i[1] for i in sample]),model.predict(new_term_freq_matrix)):\n",
    "        print i[0][0]\n",
    "        print \"Actual::\\t\",i[0][1],\"\\nPredicted::\\t\",i[1]"
   ]
  },
  {
   "cell_type": "code",
   "execution_count": 15,
   "metadata": {
    "collapsed": false
   },
   "outputs": [
    {
     "name": "stdout",
     "output_type": "stream",
     "text": [
      "RandomForestClassifier(bootstrap=True, class_weight=None, criterion='gini',\n",
      "            max_depth=None, max_features='auto', max_leaf_nodes=None,\n",
      "            min_samples_leaf=1, min_samples_split=2,\n",
      "            min_weight_fraction_leaf=0.0, n_estimators=150, n_jobs=1,\n",
      "            oob_score=False, random_state=None, verbose=0,\n",
      "            warm_start=False)\n",
      "when did israel begin turning the gaza strip and jericho over to the plo ? \n",
      "Actual::\twhen \n",
      "Predicted::\twhen\n",
      "what 's the only color johnny cash wears on stage ? \n",
      "Actual::\twhat \n",
      "Predicted::\twhat\n",
      "what chemicals are used in lethal injection ? \n",
      "Actual::\twhat \n",
      "Predicted::\twhat\n",
      "who is desmond tutu ? \n",
      "Actual::\twho \n",
      "Predicted::\twho\n",
      "can these be recycled some way ? \n",
      "Actual::\taffirmation \n",
      "Predicted::\taffirmation\n"
     ]
    }
   ],
   "source": [
    "radom_sample_testing(data,model,tfidf_vectorizer,5)"
   ]
  },
  {
   "cell_type": "markdown",
   "metadata": {},
   "source": [
    "### User Testing"
   ]
  },
  {
   "cell_type": "code",
   "execution_count": 16,
   "metadata": {
    "collapsed": false
   },
   "outputs": [
    {
     "name": "stdout",
     "output_type": "stream",
     "text": [
      "What time does the train leave?\n",
      "Predicted:: ['when']\n"
     ]
    }
   ],
   "source": [
    "Query=raw_input()\n",
    "print  \"Predicted::\",model.predict(tfidf_vectorizer.transform([Query]).todense())"
   ]
  },
  {
   "cell_type": "code",
   "execution_count": null,
   "metadata": {
    "collapsed": true
   },
   "outputs": [],
   "source": []
  },
  {
   "cell_type": "markdown",
   "metadata": {},
   "source": [
    "### Support Vector Machine -svm"
   ]
  },
  {
   "cell_type": "code",
   "execution_count": 17,
   "metadata": {
    "collapsed": false
   },
   "outputs": [
    {
     "data": {
      "text/plain": [
       "SVC(C=1.0, cache_size=200, class_weight=None, coef0=0.0,\n",
       "  decision_function_shape=None, degree=3, gamma='auto', kernel='linear',\n",
       "  max_iter=-1, probability=False, random_state=None, shrinking=True,\n",
       "  tol=0.001, verbose=False)"
      ]
     },
     "execution_count": 17,
     "metadata": {},
     "output_type": "execute_result"
    }
   ],
   "source": [
    "#Import Library\n",
    "from sklearn import svm\n",
    "model = svm.SVC(kernel='linear', C = 1.0)\n",
    "model.fit(X_train,y_train)\n",
    "#model.score(X_train,y_train)"
   ]
  },
  {
   "cell_type": "code",
   "execution_count": 18,
   "metadata": {
    "collapsed": false
   },
   "outputs": [
    {
     "name": "stdout",
     "output_type": "stream",
     "text": [
      "Accuracy: 0.957303370787\n",
      "\n",
      "Confusion Matrix:\n",
      "[[ 25   0   1   0   1]\n",
      " [  0  72   3   2   1]\n",
      " [  0   1 173   3   2]\n",
      " [  0   1   3  24   0]\n",
      " [  0   0   0   1 132]]\n",
      "\n",
      "classification Report:\n",
      "             precision    recall  f1-score   support\n",
      "\n",
      "affirmation       1.00      0.93      0.96        27\n",
      "    unknown       0.97      0.92      0.95        78\n",
      "       what       0.96      0.97      0.96       179\n",
      "       when       0.80      0.86      0.83        28\n",
      "        who       0.97      0.99      0.98       133\n",
      "\n",
      "avg / total       0.96      0.96      0.96       445\n",
      "\n"
     ]
    }
   ],
   "source": [
    "predicted= model.predict(X_test)\n",
    "print \"Accuracy:\",sklearn.metrics.accuracy_score(y_test, predicted)\n",
    "print \"\\nConfusion Matrix:\\n\",sklearn.metrics.confusion_matrix(y_test,predicted)\n",
    "print \"\\nclassification Report:\\n\",sklearn.metrics.classification_report(y_test,predicted)"
   ]
  },
  {
   "cell_type": "markdown",
   "metadata": {},
   "source": [
    "## Random Testing"
   ]
  },
  {
   "cell_type": "code",
   "execution_count": 19,
   "metadata": {
    "collapsed": false
   },
   "outputs": [
    {
     "name": "stdout",
     "output_type": "stream",
     "text": [
      "SVC(C=1.0, cache_size=200, class_weight=None, coef0=0.0,\n",
      "  decision_function_shape=None, degree=3, gamma='auto', kernel='linear',\n",
      "  max_iter=-1, probability=False, random_state=None, shrinking=True,\n",
      "  tol=0.001, verbose=False)\n",
      "who took over as conductor of the boston pops after arthur fiedler 's long reign ? \n",
      "Actual::\twho \n",
      "Predicted::\twho\n",
      "where must a soccer goalie stand to be permitted to handle the ball ? \n",
      "Actual::\tunknown \n",
      "Predicted::\tunknown\n",
      "who wrote the poem that starts `` i love your lips when they 're wet with wine and red with a warm desire '' ? \n",
      "Actual::\twho \n",
      "Predicted::\twho\n",
      "what sprawling u.s. state boasts the most airports ? \n",
      "Actual::\twhat \n",
      "Predicted::\twhat\n",
      "what is d.b. cooper known for ? \n",
      "Actual::\twhat \n",
      "Predicted::\twhat\n"
     ]
    }
   ],
   "source": [
    "radom_sample_testing(data,model,tfidf_vectorizer,5)"
   ]
  },
  {
   "cell_type": "markdown",
   "metadata": {
    "collapsed": true
   },
   "source": [
    "### User Testing"
   ]
  },
  {
   "cell_type": "code",
   "execution_count": 20,
   "metadata": {
    "collapsed": false
   },
   "outputs": [
    {
     "name": "stdout",
     "output_type": "stream",
     "text": [
      "What time does the train leave?\n",
      "Predicted:: ['when']\n"
     ]
    }
   ],
   "source": [
    "Query=raw_input()\n",
    "print  \"Predicted::\",model.predict(tfidf_vectorizer.transform([Query]).todense())"
   ]
  },
  {
   "cell_type": "code",
   "execution_count": null,
   "metadata": {
    "collapsed": true
   },
   "outputs": [],
   "source": []
  }
 ],
 "metadata": {
  "kernelspec": {
   "display_name": "Python [Root]",
   "language": "python",
   "name": "Python [Root]"
  },
  "language_info": {
   "codemirror_mode": {
    "name": "ipython",
    "version": 2
   },
   "file_extension": ".py",
   "mimetype": "text/x-python",
   "name": "python",
   "nbconvert_exporter": "python",
   "pygments_lexer": "ipython2",
   "version": "2.7.12"
  }
 },
 "nbformat": 4,
 "nbformat_minor": 0
}
